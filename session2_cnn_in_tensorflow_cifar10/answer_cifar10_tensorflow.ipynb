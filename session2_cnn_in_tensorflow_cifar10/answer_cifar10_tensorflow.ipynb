{
 "cells": [
  {
   "cell_type": "markdown",
   "metadata": {},
   "source": [
    "## This notebook is modfied by [Udacity deeplearning courses github](https://github.com/udacity/deep-learning)"
   ]
  },
  {
   "cell_type": "markdown",
   "metadata": {},
   "source": [
    "# Image Classification\n",
    "In this project, you'll classify images from the [CIFAR-10 dataset](https://www.cs.toronto.edu/~kriz/cifar.html).  The dataset consists of airplanes, dogs, cats, and other objects. You'll preprocess the images, then train a convolutional neural network on all the samples. The images need to be normalized and the labels need to be one-hot encoded.  You'll get to apply what you learned and build a convolutional, max pooling, dropout, and fully connected layers.  At the end, you'll get to see your neural network's predictions on the sample images.\n",
    "## Get the Data\n",
    "Run the following cell to download the [CIFAR-10 dataset for python](https://www.cs.toronto.edu/~kriz/cifar-10-python.tar.gz)."
   ]
  },
  {
   "cell_type": "code",
   "execution_count": 1,
   "metadata": {},
   "outputs": [
    {
     "name": "stdout",
     "output_type": "stream",
     "text": [
      "All files found!\n"
     ]
    }
   ],
   "source": [
    "\"\"\"\n",
    "DON'T MODIFY ANYTHING IN THIS CELL THAT IS BELOW THIS LINE\n",
    "\"\"\"\n",
    "from urllib.request import urlretrieve\n",
    "from os.path import isfile, isdir\n",
    "from tqdm import tqdm\n",
    "import problem_unittests as tests\n",
    "import tarfile\n",
    "\n",
    "\n",
    "cifar10_dataset_folder_path = 'cifar-10-batches-py'\n",
    "\n",
    "# Use Floyd's cifar-10 dataset if present\n",
    "floyd_cifar10_location = '/input/cifar-10/python.tar.gz'\n",
    "if isfile(floyd_cifar10_location):\n",
    "    tar_gz_path = floyd_cifar10_location\n",
    "else:\n",
    "    tar_gz_path = 'cifar-10-python.tar.gz'\n",
    "\n",
    "class DLProgress(tqdm):\n",
    "    last_block = 0\n",
    "\n",
    "    def hook(self, block_num=1, block_size=1, total_size=None):\n",
    "        self.total = total_size\n",
    "        self.update((block_num - self.last_block) * block_size)\n",
    "        self.last_block = block_num\n",
    "\n",
    "if not isfile(tar_gz_path):\n",
    "    with DLProgress(unit='B', unit_scale=True, miniters=1, desc='CIFAR-10 Dataset') as pbar:\n",
    "        urlretrieve(\n",
    "            'https://www.cs.toronto.edu/~kriz/cifar-10-python.tar.gz',\n",
    "            tar_gz_path,\n",
    "            pbar.hook)\n",
    "\n",
    "if not isdir(cifar10_dataset_folder_path):\n",
    "    with tarfile.open(tar_gz_path) as tar:\n",
    "        tar.extractall()\n",
    "        tar.close()\n",
    "\n",
    "\n",
    "tests.test_folder_path(cifar10_dataset_folder_path)"
   ]
  },
  {
   "cell_type": "markdown",
   "metadata": {},
   "source": [
    "## Explore the Data\n",
    "The dataset is broken into batches to prevent your machine from running out of memory.  The CIFAR-10 dataset consists of 5 batches, named `data_batch_1`, `data_batch_2`, etc.. Each batch contains the labels and images that are one of the following:\n",
    "* airplane\n",
    "* automobile\n",
    "* bird\n",
    "* cat\n",
    "* deer\n",
    "* dog\n",
    "* frog\n",
    "* horse\n",
    "* ship\n",
    "* truck\n",
    "\n",
    "Understanding a dataset is part of making predictions on the data.  Play around with the code cell below by changing the `batch_id` and `sample_id`. The `batch_id` is the id for a batch (1-5). The `sample_id` is the id for a image and label pair in the batch.\n",
    "\n",
    "Ask yourself \"What are all possible labels?\", \"What is the range of values for the image data?\", \"Are the labels in order or random?\".  Answers to questions like these will help you preprocess the data and end up with better predictions."
   ]
  },
  {
   "cell_type": "code",
   "execution_count": 2,
   "metadata": {},
   "outputs": [
    {
     "name": "stdout",
     "output_type": "stream",
     "text": [
      "\n",
      "Stats of batch 2:\n",
      "Samples: 10000\n",
      "Label Counts: {0: 984, 1: 1007, 2: 1010, 3: 995, 4: 1010, 5: 988, 6: 1008, 7: 1026, 8: 987, 9: 985}\n",
      "First 20 Labels: [1, 6, 6, 8, 8, 3, 4, 6, 0, 6, 0, 3, 6, 6, 5, 4, 8, 3, 2, 6]\n",
      "\n",
      "Example of Image 5:\n",
      "Image - Min Value: 3 Max Value: 219\n",
      "Image - Shape: (32, 32, 3)\n",
      "Label - Label Id: 3 Name: cat\n"
     ]
    },
    {
     "data": {
      "image/png": "[encoded data removed]",
      "text/plain": [
       "<matplotlib.figure.Figure at 0x7f49e37b9e10>"
      ]
     },
     "metadata": {
      "image/png": {
       "height": 250,
       "width": 253
      }
     },
     "output_type": "display_data"
    }
   ],
   "source": [
    "%matplotlib inline\n",
    "%config InlineBackend.figure_format = 'retina'\n",
    "\n",
    "import helper\n",
    "import numpy as np\n",
    "\n",
    "# 更改 batch_id, sample_id 看不同的圖片資料\n",
    "batch_id = 2\n",
    "sample_id = 5\n",
    "helper.display_stats(cifar10_dataset_folder_path, batch_id, sample_id)"
   ]
  },
  {
   "cell_type": "markdown",
   "metadata": {},
   "source": [
    "## Implement Preprocess Functions\n",
    "\n",
    "接下來的練習，都需要你按照需求寫出對應的 function。寫完後執行 cell 會對你寫好的 function 做測試，如果正確就會出現 **Tests Passed**，若是不正確則會看到 **Assert error**，代表沒有寫出符合要求的 function，就請大家練習看看，有任何問題歡迎隨時詢問助教！\n",
    "### Normalize\n",
    "In the cell below, implement the `normalize` function to take in image data, `x`, and return it as a normalized Numpy array. The values should be in the range of 0 to 1, inclusive.  The return object should be the same shape as `x`."
   ]
  },
  {
   "cell_type": "code",
   "execution_count": 3,
   "metadata": {},
   "outputs": [
    {
     "name": "stdout",
     "output_type": "stream",
     "text": [
      "Tests Passed\n"
     ]
    }
   ],
   "source": [
    "def normalize(x):\n",
    "    \"\"\"\n",
    "    Normalize a list of sample image data in the range of 0 to 1\n",
    "    : x: List of image data.  The image shape is (32, 32, 3)\n",
    "    : return: Numpy array of normalize data\n",
    "    \"\"\"\n",
    "    # TODO: Implement Function\n",
    "    return np.array(x / np.max(x))\n",
    "\n",
    "\n",
    "\"\"\"\n",
    "DON'T MODIFY ANYTHING IN THIS CELL THAT IS BELOW THIS LINE\n",
    "\"\"\"\n",
    "tests.test_normalize(normalize)"
   ]
  },
  {
   "cell_type": "markdown",
   "metadata": {},
   "source": [
    "### One-hot encode\n",
    "Just like the previous code cell, you'll be implementing a function for preprocessing.  This time, you'll implement the `one_hot_encode` function. The input, `x`, are a list of labels.  Implement the function to return the list of labels as One-Hot encoded Numpy array.  The possible values for labels are 0 to 9. The one-hot encoding function should return the same encoding for each value between each call to `one_hot_encode`.  Make sure to save the map of encodings outside the function.\n",
    "\n",
    "Hint: Don't reinvent the wheel."
   ]
  },
  {
   "cell_type": "code",
   "execution_count": 4,
   "metadata": {},
   "outputs": [
    {
     "name": "stdout",
     "output_type": "stream",
     "text": [
      "Tests Passed\n"
     ]
    }
   ],
   "source": [
    "def one_hot_encode(x):\n",
    "    \"\"\"\n",
    "    One hot encode a list of sample labels. Return a one-hot encoded vector for each label.\n",
    "    : x: List of sample Labels\n",
    "    : return: Numpy array of one-hot encoded labels\n",
    "    \"\"\"\n",
    "    # TODO: Implement Function\n",
    "    # HINT: google \"np.eye\" or use label encoder from sklearn\n",
    "    # Cifar-10 如同其名，共有 10 個 class, 請把 list 轉成 one-hot encoding \n",
    "\n",
    "    return np.eye(10)[x]\n",
    "\n",
    "\n",
    "\"\"\"\n",
    "DON'T MODIFY ANYTHING IN THIS CELL THAT IS BELOW THIS LINE\n",
    "\"\"\"\n",
    "tests.test_one_hot_encode(one_hot_encode)"
   ]
  },
  {
   "cell_type": "markdown",
   "metadata": {},
   "source": [
    "### Randomize Data\n",
    "As you saw from exploring the data above, the order of the samples are randomized.  It doesn't hurt to randomize it again, but you don't need to for this dataset."
   ]
  },
  {
   "cell_type": "markdown",
   "metadata": {},
   "source": [
    "## Preprocess all the data and save it\n",
    "Running the code cell below will preprocess all the CIFAR-10 data and save it to file. The code below also uses 10% of the training data for validation."
   ]
  },
  {
   "cell_type": "code",
   "execution_count": 5,
   "metadata": {},
   "outputs": [],
   "source": [
    "\"\"\"\n",
    "DON'T MODIFY ANYTHING IN THIS CELL\n",
    "\"\"\"\n",
    "# Preprocess Training, Validation, and Testing Data\n",
    "helper.preprocess_and_save_data(cifar10_dataset_folder_path, normalize, one_hot_encode)"
   ]
  },
  {
   "cell_type": "markdown",
   "metadata": {},
   "source": [
    "# Check Point\n",
    "This is your first checkpoint.  If you ever decide to come back to this notebook or have to restart the notebook, you can start from here.  The preprocessed data has been saved to disk."
   ]
  },
  {
   "cell_type": "code",
   "execution_count": 6,
   "metadata": {},
   "outputs": [],
   "source": [
    "\"\"\"\n",
    "DON'T MODIFY ANYTHING IN THIS CELL\n",
    "\"\"\"\n",
    "import pickle\n",
    "import problem_unittests as tests\n",
    "import helper\n",
    "\n",
    "# Load the Preprocessed Validation data\n",
    "valid_features, valid_labels = pickle.load(open('preprocess_validation.p', mode='rb'))"
   ]
  },
  {
   "cell_type": "markdown",
   "metadata": {},
   "source": [
    "## Build the network\n",
    "以下的練習希望大家透過比較 high level 的 [TensorFlow Layers](https://www.tensorflow.org/api_docs/python/tf/layers)packages  來完成 convolution, pooling 等操作，讓各位試著用自己的架構建出一個簡單的 CNN，完成 cifar-10 資料集的練習\n",
    "Let's begin!\n",
    "\n",
    "### Input\n",
    "The neural network needs to read the image data, one-hot encoded labels, and dropout keep probability. Implement the following functions\n",
    "* Implement `neural_net_image_input`\n",
    " * Return a [TF Placeholder](https://www.tensorflow.org/api_docs/python/tf/placeholder)\n",
    " * Set the shape using `image_shape` with batch size set to `None`.\n",
    " * Name the TensorFlow placeholder \"x\" using the TensorFlow `name` parameter in the [TF Placeholder](https://www.tensorflow.org/api_docs/python/tf/placeholder).\n",
    "* Implement `neural_net_label_input`\n",
    " * Return a [TF Placeholder](https://www.tensorflow.org/api_docs/python/tf/placeholder)\n",
    " * Set the shape using `n_classes` with batch size set to `None`.\n",
    " * Name the TensorFlow placeholder \"y\" using the TensorFlow `name` parameter in the [TF Placeholder](https://www.tensorflow.org/api_docs/python/tf/placeholder).\n",
    "* Implement `neural_net_keep_prob_input`\n",
    " * Return a [TF Placeholder](https://www.tensorflow.org/api_docs/python/tf/placeholder) for dropout keep probability.\n",
    " * Name the TensorFlow placeholder \"keep_prob\" using the TensorFlow `name` parameter in the [TF Placeholder](https://www.tensorflow.org/api_docs/python/tf/placeholder).\n",
    "\n",
    "These names will be used at the end of the project to load your saved model.\n",
    "\n",
    "Note: `None` for shapes in TensorFlow allow for a dynamic size."
   ]
  },
  {
   "cell_type": "code",
   "execution_count": 7,
   "metadata": {},
   "outputs": [
    {
     "name": "stdout",
     "output_type": "stream",
     "text": [
      "Image Input Tests Passed.\n",
      "Label Input Tests Passed.\n",
      "Keep Prob Tests Passed.\n"
     ]
    }
   ],
   "source": [
    "import tensorflow as tf\n",
    "\n",
    "def neural_net_image_input(image_shape):\n",
    "    \"\"\"\n",
    "    Return a Tensor for a batch of image input\n",
    "    : image_shape: Shape of the images\n",
    "    : return: Tensor for image input.\n",
    "    \"\"\"\n",
    "    # TODO: Implement Function\n",
    "    # 請命名為 x\n",
    "    image = tf.placeholder(tf.float32, [None, image_shape[0], image_shape[1], image_shape[2]], name='x')\n",
    "    return image \n",
    "\n",
    "\n",
    "def neural_net_label_input(n_classes):\n",
    "    \"\"\"\n",
    "    Return a Tensor for a batch of label input\n",
    "    : n_classes: Number of classes\n",
    "    : return: Tensor for label input.\n",
    "    \"\"\"\n",
    "    # TODO: Implement Function\n",
    "    # 請命名為 y\n",
    "    label = tf.placeholder(tf.float32, [None, n_classes], name='y')\n",
    "    return label\n",
    "\n",
    "\n",
    "def neural_net_keep_prob_input():\n",
    "    \"\"\"\n",
    "    Return a Tensor for keep probability\n",
    "    : return: Tensor for keep probability.\n",
    "    \"\"\"\n",
    "    # TODO: Implement Function\n",
    "    # 請命名為 keep_prob\n",
    "    keep_prob = tf.placeholder(tf.float32, name=\"keep_prob\" )\n",
    "    return keep_prob\n",
    "\n",
    "\n",
    "\"\"\"\n",
    "DON'T MODIFY ANYTHING IN THIS CELL THAT IS BELOW THIS LINE\n",
    "\"\"\"\n",
    "tf.reset_default_graph()\n",
    "tests.test_nn_image_inputs(neural_net_image_input)\n",
    "tests.test_nn_label_inputs(neural_net_label_input)\n",
    "tests.test_nn_keep_prob_inputs(neural_net_keep_prob_input)"
   ]
  },
  {
   "cell_type": "markdown",
   "metadata": {},
   "source": [
    "### Convolution and Max Pooling Layer\n",
    "Convolution layers have a lot of success with images. For this code cell, you should implement the function `conv2d_maxpool` to apply convolution then max pooling:\n",
    "* Apply a convolution to `x_tensor` using ** tf.layers.conv2d**.\n",
    "    * We recommend you use same padding, but you're welcome to use any padding.\n",
    "    * You need to add a nonlinear activation into the convolution. e.g. tf.nn.relu\n",
    "* Apply Max Pooling using **tf.layers.max_pooling2d**\n",
    "    * We recommend you use same padding, but you're welcome to use any padding.\n"
   ]
  },
  {
   "cell_type": "code",
   "execution_count": 8,
   "metadata": {},
   "outputs": [
    {
     "name": "stdout",
     "output_type": "stream",
     "text": [
      "Tests Passed\n"
     ]
    }
   ],
   "source": [
    "def conv2d_maxpool(x_tensor, conv_num_outputs, conv_ksize, conv_strides, pool_ksize, pool_strides):\n",
    "    \"\"\"\n",
    "    Apply convolution then max pooling to x_tensor\n",
    "    :param x_tensor: TensorFlow Tensor\n",
    "    :param conv_num_outputs: Number of outputs for the convolutional layer\n",
    "    :param conv_ksize: kernal size 2-D Tuple for the convolutional layer\n",
    "    :param conv_strides: Stride 2-D Tuple for convolution\n",
    "    :param pool_ksize: kernal size 2-D Tuple for pool\n",
    "    :param pool_strides: Stride 2-D Tuple for pool\n",
    "    : return: A tensor that represents convolution and max pooling of x_tensor\n",
    "    \"\"\"\n",
    "    # TODO: Implement Function\n",
    "\n",
    "    conv_layer = tf.layers.conv2d(x_tensor, conv_num_outputs, kernel_size=conv_ksize, strides=conv_strides, activation=tf.nn.relu)   \n",
    "    conv_layer = tf.layers.max_pooling2d(conv_layer, pool_size=pool_ksize, strides=pool_strides)\n",
    "\n",
    "    return conv_layer \n",
    "\n",
    "\n",
    "\"\"\"\n",
    "DON'T MODIFY ANYTHING IN THIS CELL THAT IS BELOW THIS LINE\n",
    "\"\"\"\n",
    "tests.test_con_pool(conv2d_maxpool)"
   ]
  },
  {
   "cell_type": "markdown",
   "metadata": {},
   "source": [
    "### Flatten Layer\n",
    "Implement the `flatten` function to change the dimension of `x_tensor` from a 4-D tensor to a 2-D tensor.  The output should be the shape (*Batch Size*, *Flattened Image Size*).  you can use classes from the [TensorFlow Layers](https://www.tensorflow.org/api_docs/python/tf/layers)"
   ]
  },
  {
   "cell_type": "code",
   "execution_count": 9,
   "metadata": {},
   "outputs": [
    {
     "name": "stdout",
     "output_type": "stream",
     "text": [
      "Tests Passed\n"
     ]
    }
   ],
   "source": [
    "def flatten(x_tensor):\n",
    "    \"\"\"\n",
    "    Flatten x_tensor to (Batch Size, Flattened Image Size)\n",
    "    : x_tensor: A tensor of size (Batch Size, ...), where ... are the image dimensions.\n",
    "    : return: A tensor of size (Batch Size, Flattened Image Size).\n",
    "    \"\"\"\n",
    "    # TODO: Implement Function\n",
    "    # HINT: tf.layers.flatten\n",
    "    return tf.layers.flatten(x_tensor)\n",
    "\n",
    "\n",
    "\"\"\"\n",
    "DON'T MODIFY ANYTHING IN THIS CELL THAT IS BELOW THIS LINE\n",
    "\"\"\"\n",
    "tests.test_flatten(flatten)"
   ]
  },
  {
   "cell_type": "markdown",
   "metadata": {},
   "source": [
    "### Fully-Connected Layer\n",
    "Implement the `fully_conn` function to apply a fully connected layer to `x_tensor` with the shape (*Batch Size*, *num_outputs*). Shortcut option: you can use classes from the [TensorFlow Layers](https://www.tensorflow.org/api_docs/python/tf/layers)"
   ]
  },
  {
   "cell_type": "code",
   "execution_count": 10,
   "metadata": {},
   "outputs": [
    {
     "name": "stdout",
     "output_type": "stream",
     "text": [
      "Tests Passed\n"
     ]
    }
   ],
   "source": [
    "def fully_conn(x_tensor, num_outputs):\n",
    "    \"\"\"\n",
    "    Apply a fully connected layer to x_tensor using weight and bias\n",
    "    : x_tensor: A 2-D tensor where the first dimension is batch size.\n",
    "    : num_outputs: The number of output that the new tensor should be.\n",
    "    : return: A 2-D tensor where the second dimension is num_outputs.\n",
    "    \"\"\"\n",
    "    # TODO: Implement Function\n",
    "    # HINT: tf.layers.dense, remember to use non-linear activation function\n",
    "\n",
    "    return tf.layers.dense(x_tensor, num_outputs, activation=tf.nn.relu)\n",
    "\n",
    "\n",
    "\"\"\"\n",
    "DON'T MODIFY ANYTHING IN THIS CELL THAT IS BELOW THIS LINE\n",
    "\"\"\"\n",
    "tests.test_fully_conn(fully_conn)"
   ]
  },
  {
   "cell_type": "markdown",
   "metadata": {},
   "source": [
    "### Output Layer\n",
    "Implement the `output` function to apply a fully connected layer to `x_tensor` with the shape (*Batch Size*, *num_outputs*). Shortcut option: you can use classes from the [TensorFlow Layers](https://www.tensorflow.org/api_docs/python/tf/layers) or [TensorFlow Layers (contrib)](https://www.tensorflow.org/api_guides/python/contrib.layers) packages for this layer. For more of a challenge, only use other TensorFlow packages.\n",
    "\n",
    "#### **Note:** Activation, softmax, or cross entropy should **not** be applied to this.\n",
    "#### 此 output function 只是要將 layer 的結果 output 出來，不需要加上任何 activation function"
   ]
  },
  {
   "cell_type": "code",
   "execution_count": 11,
   "metadata": {},
   "outputs": [
    {
     "name": "stdout",
     "output_type": "stream",
     "text": [
      "Tests Passed\n"
     ]
    }
   ],
   "source": [
    "def output(x_tensor, num_outputs):\n",
    "    \"\"\"\n",
    "    Apply a output layer to x_tensor using weight and bias\n",
    "    : x_tensor: A 2-D tensor where the first dimension is batch size.\n",
    "    : num_outputs: The number of output that the new tensor should be.\n",
    "    : return: A 2-D tensor where the second dimension is num_outputs.\n",
    "    \"\"\"\n",
    "    # TODO: Implement Function\n",
    "    # HINT: use tf.layers.dense and check how to use linear activation in tensorflow\n",
    "    return tf.layers.dense(x_tensor, num_outputs, activation=None)\n",
    "\n",
    "\n",
    "\"\"\"\n",
    "DON'T MODIFY ANYTHING IN THIS CELL THAT IS BELOW THIS LINE\n",
    "\"\"\"\n",
    "tests.test_output(output)"
   ]
  },
  {
   "cell_type": "markdown",
   "metadata": {},
   "source": [
    "### Create Convolutional Model\n",
    "Implement the function `conv_net` to create a convolutional neural network model. The function takes in a batch of images, `x`, and outputs logits.  Use the layers you created above to create this model:\n",
    "\n",
    "* Apply 1, 2, or 3 Convolution and Max Pool layers\n",
    "* Apply a Flatten Layer\n",
    "* Apply 1, 2, or 3 Fully Connected Layers\n",
    "* Apply an Output Layer\n",
    "* Return the output\n",
    "* Apply [TensorFlow's Dropout](https://www.tensorflow.org/api_docs/python/tf/nn/dropout) to one or more layers in the model using `keep_prob`. "
   ]
  },
  {
   "cell_type": "code",
   "execution_count": 12,
   "metadata": {},
   "outputs": [],
   "source": [
    "def conv_net(x, keep_prob):\n",
    "    \"\"\"\n",
    "    Create a convolutional neural network model\n",
    "    : x: Placeholder tensor that holds image data.\n",
    "    : keep_prob: Placeholder tensor that hold dropout keep probability.\n",
    "    : return: Tensor that represents logits\n",
    "    \"\"\"\n",
    "    # TODO: Apply 1, 2, or 3 Convolution and Max Pool layers\n",
    "    #    Play around with different number of outputs, kernel size and stride\n",
    "    # Function Definition from Above:\n",
    "    #    conv2d_maxpool(x_tensor, conv_num_outputs, conv_ksize, conv_strides, pool_ksize, pool_strides)\n",
    "    \n",
    "    # 如同先前提到的 kernel (filter) size、strides 等等都是可以調整的參數，請自由調整看看是否對結果會有影響\n",
    "    # 每次 convolution 要使用的 filters 數量也是可以調整的\n",
    "    conv_ksize = (3,3)\n",
    "    conv_strides = (1,1)\n",
    "    pool_ksize = (2,2)\n",
    "    pool_strides = (2,2)\n",
    "    n_filters_1 = 64\n",
    "    n_filters_2 = 128\n",
    "    \n",
    "    conv_1 = conv2d_maxpool(x, n_filters_1, conv_ksize, conv_strides, pool_ksize, pool_strides)\n",
    "    conv_2 = conv2d_maxpool(conv_1, n_filters_1, conv_ksize, conv_strides, pool_ksize, pool_strides)\n",
    "\n",
    "\n",
    "    # TODO: Apply a Flatten Layer\n",
    "    # Function Definition from Above:\n",
    "    #   flatten(x_tensor)\n",
    "    fc = flatten(conv_2)\n",
    "\n",
    "    # TODO: Apply 1, 2, or 3 Fully Connected Layers\n",
    "    #    Play around with different number of outputs\n",
    "    # Function Definition from Above:\n",
    "    #   fully_conn(x_tensor, num_outputs)\n",
    "    fc1 = fully_conn(fc, 300)\n",
    "    \n",
    "    # apply dropout\n",
    "    fc2 = tf.nn.dropout(fc1, keep_prob=keep_prob)\n",
    "    \n",
    "    \n",
    "    # TODO: Apply an Output Layer\n",
    "    #    Set this to the number of classes\n",
    "    # Function Definition from Above:\n",
    "    #   output(x_tensor, num_outputs)\n",
    "    \n",
    "    out = output(fc2, 10)\n",
    "    \n",
    "    # TODO: return output\n",
    "    return out\n",
    "\n",
    "\n",
    "\n",
    "\"\"\"\n",
    "DON'T MODIFY ANYTHING IN THIS CELL THAT IS BELOW THIS LINE\n",
    "\"\"\"\n",
    "\n",
    "##############################\n",
    "## Build the Neural Network ##\n",
    "##############################\n",
    "\n",
    "#底下的 code 會把整個 network 的 graph 建置起來，之後再透過 session.run 把我們的資料放進模型中訓練\n",
    "\n",
    "# Remove previous weights, bias, inputs, etc..\n",
    "tf.reset_default_graph()\n",
    "\n",
    "# Inputs\n",
    "x = neural_net_image_input((32, 32, 3))\n",
    "y = neural_net_label_input(10)\n",
    "keep_prob = neural_net_keep_prob_input()\n",
    "\n",
    "# Model 的 output (注意！這時候還沒有經過 softmax function，這些 output 的值通常稱為 logits)\n",
    "logits = conv_net(x, keep_prob)\n",
    "\n",
    "# Name logits Tensor, so that is can be loaded from disk after training\n",
    "logits = tf.identity(logits, name='logits')\n",
    "\n",
    "# Loss and Optimizer\n",
    "# 此時透過 softmax_cross_entropy_with_logits 將 model output 的值經過 softmax，再與我們的 label 計算 cross-entropy\n",
    "cost = tf.reduce_mean(tf.nn.softmax_cross_entropy_with_logits(logits=logits, labels=y))\n",
    "optimizer = tf.train.AdamOptimizer().minimize(cost)\n",
    "\n",
    "# Accuracy\n",
    "correct_pred = tf.equal(tf.argmax(logits, 1), tf.argmax(y, 1))\n",
    "accuracy = tf.reduce_mean(tf.cast(correct_pred, tf.float32), name='accuracy')"
   ]
  },
  {
   "cell_type": "markdown",
   "metadata": {},
   "source": [
    "## Train the Neural Network\n",
    "### Single Optimization\n",
    "Implement the function `train_neural_network` to do a single optimization.  The optimization should use `optimizer` to optimize in `session` with a `feed_dict` of the following:\n",
    "* `x` for image input\n",
    "* `y` for labels\n",
    "* `keep_prob` for keep probability for dropout\n",
    "\n",
    "This function will be called for each batch, so `tf.global_variables_initializer()` has already been called.\n",
    "\n",
    "Note: Nothing needs to be returned. This function is only optimizing the neural network."
   ]
  },
  {
   "cell_type": "code",
   "execution_count": 13,
   "metadata": {},
   "outputs": [
    {
     "name": "stdout",
     "output_type": "stream",
     "text": [
      "Tests Passed\n"
     ]
    }
   ],
   "source": [
    "def train_neural_network(session, optimizer, keep_probability, feature_batch, label_batch):\n",
    "    \"\"\"\n",
    "    Optimize the session on a batch of images and labels\n",
    "    : session: Current TensorFlow session\n",
    "    : optimizer: TensorFlow optimizer function\n",
    "    : keep_probability: keep probability\n",
    "    : feature_batch: Batch of Numpy image data\n",
    "    : label_batch: Batch of Numpy label data\n",
    "    \"\"\"\n",
    "    # TODO: Implement Function\n",
    "    session.run(optimizer, feed_dict={\n",
    "    x: feature_batch,\n",
    "    y: label_batch,\n",
    "    keep_prob: keep_probability})\n",
    "\n",
    "\n",
    "\n",
    "\"\"\"\n",
    "DON'T MODIFY ANYTHING IN THIS CELL THAT IS BELOW THIS LINE\n",
    "\"\"\"\n",
    "tests.test_train_nn(train_neural_network)"
   ]
  },
  {
   "cell_type": "markdown",
   "metadata": {},
   "source": [
    "### Show Stats\n",
    "Implement the function `print_stats` to print loss and validation accuracy.  Use the global variables `valid_features` and `valid_labels` to calculate validation accuracy.  Use a keep probability of `1.0` to calculate the loss and validation accuracy."
   ]
  },
  {
   "cell_type": "code",
   "execution_count": 14,
   "metadata": {},
   "outputs": [],
   "source": [
    "def print_stats(session, feature_batch, label_batch, cost, accuracy):\n",
    "    \"\"\"\n",
    "    Print information about loss and validation accuracy\n",
    "    : session: Current TensorFlow session\n",
    "    : feature_batch: Batch of Numpy image data\n",
    "    : label_batch: Batch of Numpy label data\n",
    "    : cost: TensorFlow cost function\n",
    "    : accuracy: TensorFlow accuracy function\n",
    "    \"\"\"\n",
    "    # TODO: Implement Function\n",
    "    loss = session.run(cost, feed_dict = {\n",
    "            x: feature_batch,\n",
    "            y: label_batch,\n",
    "            keep_prob: 1.\n",
    "        })\n",
    "    valid_acc = session.run(accuracy, feed_dict = {\n",
    "            x: valid_features,\n",
    "            y: valid_labels,\n",
    "            keep_prob: 1.\n",
    "        })\n",
    "    print('Epoch {:>2}'\n",
    "          'Loss: {:>10.4f} Validation Accuracy: {:.6f}'.format(\n",
    "        epoch + 1,\n",
    "        loss,\n",
    "        valid_acc))"
   ]
  },
  {
   "cell_type": "markdown",
   "metadata": {},
   "source": [
    "### Hyperparameters\n",
    "Tune the following parameters:\n",
    "* Set `epochs` to the number of iterations until the network stops learning or start overfitting\n",
    "* Set `batch_size` to the highest number that your machine has memory for.  Most people set them to common sizes of memory:\n",
    " * 64\n",
    " * 128\n",
    " * 256\n",
    " * ...\n",
    "* Set `keep_probability` to the probability of keeping a node using dropout"
   ]
  },
  {
   "cell_type": "code",
   "execution_count": 15,
   "metadata": {},
   "outputs": [],
   "source": [
    "# TODO: Tune Parameters\n",
    "epochs = 50\n",
    "batch_size = 128\n",
    "keep_probability = 0.5"
   ]
  },
  {
   "cell_type": "markdown",
   "metadata": {},
   "source": [
    "### Train on a Single CIFAR-10 Batch\n",
    "Instead of training the neural network on all the CIFAR-10 batches of data, let's use a single batch. This should save time while you iterate on the model to get a better accuracy.  Once the final validation accuracy is 50% or greater, run the model on all the data in the next section."
   ]
  },
  {
   "cell_type": "code",
   "execution_count": 17,
   "metadata": {},
   "outputs": [
    {
     "name": "stdout",
     "output_type": "stream",
     "text": [
      "Checking the Training on a Single Batch...\n",
      "Epoch  1, CIFAR-10 Batch 1:  Epoch  1Loss:     2.0505 Validation Accuracy: 0.384000\n",
      "Epoch  2, CIFAR-10 Batch 1:  Epoch  2Loss:     1.7794 Validation Accuracy: 0.452000\n",
      "Epoch  3, CIFAR-10 Batch 1:  Epoch  3Loss:     1.5826 Validation Accuracy: 0.484600\n",
      "Epoch  4, CIFAR-10 Batch 1:  Epoch  4Loss:     1.4456 Validation Accuracy: 0.498400\n",
      "Epoch  5, CIFAR-10 Batch 1:  Epoch  5Loss:     1.3110 Validation Accuracy: 0.512400\n",
      "Epoch  6, CIFAR-10 Batch 1:  Epoch  6Loss:     1.1309 Validation Accuracy: 0.537800\n",
      "Epoch  7, CIFAR-10 Batch 1:  Epoch  7Loss:     0.9969 Validation Accuracy: 0.550400\n",
      "Epoch  8, CIFAR-10 Batch 1:  Epoch  8Loss:     0.9639 Validation Accuracy: 0.548000\n",
      "Epoch  9, CIFAR-10 Batch 1:  Epoch  9Loss:     0.7963 Validation Accuracy: 0.554200\n",
      "Epoch 10, CIFAR-10 Batch 1:  Epoch 10Loss:     0.7832 Validation Accuracy: 0.550000\n",
      "Epoch 11, CIFAR-10 Batch 1:  Epoch 11Loss:     0.6405 Validation Accuracy: 0.574400\n",
      "Epoch 12, CIFAR-10 Batch 1:  Epoch 12Loss:     0.5812 Validation Accuracy: 0.574800\n",
      "Epoch 13, CIFAR-10 Batch 1:  Epoch 13Loss:     0.5380 Validation Accuracy: 0.585200\n",
      "Epoch 14, CIFAR-10 Batch 1:  Epoch 14Loss:     0.4540 Validation Accuracy: 0.595800\n",
      "Epoch 15, CIFAR-10 Batch 1:  Epoch 15Loss:     0.3946 Validation Accuracy: 0.589200\n",
      "Epoch 16, CIFAR-10 Batch 1:  Epoch 16Loss:     0.3493 Validation Accuracy: 0.596600\n",
      "Epoch 17, CIFAR-10 Batch 1:  Epoch 17Loss:     0.2896 Validation Accuracy: 0.598000\n",
      "Epoch 18, CIFAR-10 Batch 1:  Epoch 18Loss:     0.2682 Validation Accuracy: 0.600400\n",
      "Epoch 19, CIFAR-10 Batch 1:  Epoch 19Loss:     0.2239 Validation Accuracy: 0.606600\n",
      "Epoch 20, CIFAR-10 Batch 1:  Epoch 20Loss:     0.1951 Validation Accuracy: 0.598200\n",
      "Epoch 21, CIFAR-10 Batch 1:  Epoch 21Loss:     0.1792 Validation Accuracy: 0.596600\n",
      "Epoch 22, CIFAR-10 Batch 1:  Epoch 22Loss:     0.1789 Validation Accuracy: 0.593000\n",
      "Epoch 23, CIFAR-10 Batch 1:  Epoch 23Loss:     0.1166 Validation Accuracy: 0.603200\n",
      "Epoch 24, CIFAR-10 Batch 1:  Epoch 24Loss:     0.1161 Validation Accuracy: 0.601000\n",
      "Epoch 25, CIFAR-10 Batch 1:  Epoch 25Loss:     0.0928 Validation Accuracy: 0.615800\n",
      "Epoch 26, CIFAR-10 Batch 1:  Epoch 26Loss:     0.0832 Validation Accuracy: 0.608400\n",
      "Epoch 27, CIFAR-10 Batch 1:  Epoch 27Loss:     0.1145 Validation Accuracy: 0.598400\n",
      "Epoch 28, CIFAR-10 Batch 1:  Epoch 28Loss:     0.0812 Validation Accuracy: 0.603200\n",
      "Epoch 29, CIFAR-10 Batch 1:  Epoch 29Loss:     0.0563 Validation Accuracy: 0.591800\n",
      "Epoch 30, CIFAR-10 Batch 1:  Epoch 30Loss:     0.0424 Validation Accuracy: 0.602800\n",
      "Epoch 31, CIFAR-10 Batch 1:  Epoch 31Loss:     0.0502 Validation Accuracy: 0.588200\n",
      "Epoch 32, CIFAR-10 Batch 1:  Epoch 32Loss:     0.0586 Validation Accuracy: 0.597200\n",
      "Epoch 33, CIFAR-10 Batch 1:  Epoch 33Loss:     0.0638 Validation Accuracy: 0.579200\n",
      "Epoch 34, CIFAR-10 Batch 1:  Epoch 34Loss:     0.0520 Validation Accuracy: 0.585200\n",
      "Epoch 35, CIFAR-10 Batch 1:  Epoch 35Loss:     0.0322 Validation Accuracy: 0.593400\n",
      "Epoch 36, CIFAR-10 Batch 1:  Epoch 36Loss:     0.0395 Validation Accuracy: 0.595800\n",
      "Epoch 37, CIFAR-10 Batch 1:  Epoch 37Loss:     0.0261 Validation Accuracy: 0.600600\n",
      "Epoch 38, CIFAR-10 Batch 1:  Epoch 38Loss:     0.0166 Validation Accuracy: 0.597200\n",
      "Epoch 39, CIFAR-10 Batch 1:  Epoch 39Loss:     0.0158 Validation Accuracy: 0.594400\n",
      "Epoch 40, CIFAR-10 Batch 1:  Epoch 40Loss:     0.0161 Validation Accuracy: 0.607400\n",
      "Epoch 41, CIFAR-10 Batch 1:  Epoch 41Loss:     0.0127 Validation Accuracy: 0.611200\n",
      "Epoch 42, CIFAR-10 Batch 1:  Epoch 42Loss:     0.0094 Validation Accuracy: 0.599600\n",
      "Epoch 43, CIFAR-10 Batch 1:  Epoch 43Loss:     0.0166 Validation Accuracy: 0.590600\n",
      "Epoch 44, CIFAR-10 Batch 1:  Epoch 44Loss:     0.0138 Validation Accuracy: 0.594000\n",
      "Epoch 45, CIFAR-10 Batch 1:  Epoch 45Loss:     0.0124 Validation Accuracy: 0.592800\n",
      "Epoch 46, CIFAR-10 Batch 1:  Epoch 46Loss:     0.0127 Validation Accuracy: 0.595600\n",
      "Epoch 47, CIFAR-10 Batch 1:  Epoch 47Loss:     0.0103 Validation Accuracy: 0.605000\n",
      "Epoch 48, CIFAR-10 Batch 1:  Epoch 48Loss:     0.0100 Validation Accuracy: 0.599800\n",
      "Epoch 49, CIFAR-10 Batch 1:  Epoch 49Loss:     0.0097 Validation Accuracy: 0.598400\n",
      "Epoch 50, CIFAR-10 Batch 1:  Epoch 50Loss:     0.0104 Validation Accuracy: 0.603800\n"
     ]
    }
   ],
   "source": [
    "\"\"\"\n",
    "DON'T MODIFY ANYTHING IN THIS CELL\n",
    "\"\"\"\n",
    "print('Checking the Training on a Single Batch...')\n",
    "with tf.Session() as sess:\n",
    "    # Initializing the variables\n",
    "    sess.run(tf.global_variables_initializer())\n",
    "    \n",
    "    # Training cycle\n",
    "    for epoch in range(epochs):\n",
    "        batch_i = 1\n",
    "        for batch_features, batch_labels in helper.load_preprocess_training_batch(batch_i, batch_size):\n",
    "            train_neural_network(sess, optimizer, keep_probability, batch_features, batch_labels)\n",
    "        print('Epoch {:>2}, CIFAR-10 Batch {}:  '.format(epoch + 1, batch_i), end='')\n",
    "        print_stats(sess, batch_features, batch_labels, cost, accuracy)"
   ]
  },
  {
   "cell_type": "markdown",
   "metadata": {},
   "source": [
    "### Fully Train the Model\n",
    "Now that you got a good accuracy with a single CIFAR-10 batch, try it with all five batches."
   ]
  },
  {
   "cell_type": "code",
   "execution_count": 18,
   "metadata": {},
   "outputs": [
    {
     "name": "stdout",
     "output_type": "stream",
     "text": [
      "Training...\n",
      "Epoch  1, CIFAR-10 Batch 1:  Epoch  1Loss:     1.9968 Validation Accuracy: 0.375400\n",
      "Epoch  1, CIFAR-10 Batch 2:  Epoch  1Loss:     1.6010 Validation Accuracy: 0.445000\n",
      "Epoch  1, CIFAR-10 Batch 3:  Epoch  1Loss:     1.2486 Validation Accuracy: 0.484000\n",
      "Epoch  1, CIFAR-10 Batch 4:  Epoch  1Loss:     1.3753 Validation Accuracy: 0.514200\n",
      "Epoch  1, CIFAR-10 Batch 5:  Epoch  1Loss:     1.3906 Validation Accuracy: 0.529400\n",
      "Epoch  2, CIFAR-10 Batch 1:  Epoch  2Loss:     1.4867 Validation Accuracy: 0.561000\n",
      "Epoch  2, CIFAR-10 Batch 2:  Epoch  2Loss:     1.1693 Validation Accuracy: 0.559000\n",
      "Epoch  2, CIFAR-10 Batch 3:  Epoch  2Loss:     0.9279 Validation Accuracy: 0.565400\n",
      "Epoch  2, CIFAR-10 Batch 4:  Epoch  2Loss:     1.1045 Validation Accuracy: 0.579600\n",
      "Epoch  2, CIFAR-10 Batch 5:  Epoch  2Loss:     1.0986 Validation Accuracy: 0.598200\n",
      "Epoch  3, CIFAR-10 Batch 1:  Epoch  3Loss:     1.1601 Validation Accuracy: 0.606600\n",
      "Epoch  3, CIFAR-10 Batch 2:  Epoch  3Loss:     0.8954 Validation Accuracy: 0.608600\n",
      "Epoch  3, CIFAR-10 Batch 3:  Epoch  3Loss:     0.7777 Validation Accuracy: 0.604000\n",
      "Epoch  3, CIFAR-10 Batch 4:  Epoch  3Loss:     0.9318 Validation Accuracy: 0.621200\n",
      "Epoch  3, CIFAR-10 Batch 5:  Epoch  3Loss:     0.8716 Validation Accuracy: 0.628400\n",
      "Epoch  4, CIFAR-10 Batch 1:  Epoch  4Loss:     0.9880 Validation Accuracy: 0.634800\n",
      "Epoch  4, CIFAR-10 Batch 2:  Epoch  4Loss:     0.7659 Validation Accuracy: 0.645200\n",
      "Epoch  4, CIFAR-10 Batch 3:  Epoch  4Loss:     0.6805 Validation Accuracy: 0.636400\n",
      "Epoch  4, CIFAR-10 Batch 4:  Epoch  4Loss:     0.7673 Validation Accuracy: 0.654600\n",
      "Epoch  4, CIFAR-10 Batch 5:  Epoch  4Loss:     0.7752 Validation Accuracy: 0.638600\n",
      "Epoch  5, CIFAR-10 Batch 1:  Epoch  5Loss:     0.8499 Validation Accuracy: 0.651000\n",
      "Epoch  5, CIFAR-10 Batch 2:  Epoch  5Loss:     0.6772 Validation Accuracy: 0.660800\n",
      "Epoch  5, CIFAR-10 Batch 3:  Epoch  5Loss:     0.5716 Validation Accuracy: 0.657200\n",
      "Epoch  5, CIFAR-10 Batch 4:  Epoch  5Loss:     0.6629 Validation Accuracy: 0.663200\n",
      "Epoch  5, CIFAR-10 Batch 5:  Epoch  5Loss:     0.6625 Validation Accuracy: 0.656400\n",
      "Epoch  6, CIFAR-10 Batch 1:  Epoch  6Loss:     0.7154 Validation Accuracy: 0.676200\n",
      "Epoch  6, CIFAR-10 Batch 2:  Epoch  6Loss:     0.5925 Validation Accuracy: 0.678200\n",
      "Epoch  6, CIFAR-10 Batch 3:  Epoch  6Loss:     0.4926 Validation Accuracy: 0.659600\n",
      "Epoch  6, CIFAR-10 Batch 4:  Epoch  6Loss:     0.6277 Validation Accuracy: 0.683400\n",
      "Epoch  6, CIFAR-10 Batch 5:  Epoch  6Loss:     0.5683 Validation Accuracy: 0.672200\n",
      "Epoch  7, CIFAR-10 Batch 1:  Epoch  7Loss:     0.5887 Validation Accuracy: 0.674800\n",
      "Epoch  7, CIFAR-10 Batch 2:  Epoch  7Loss:     0.5290 Validation Accuracy: 0.677800\n",
      "Epoch  7, CIFAR-10 Batch 3:  Epoch  7Loss:     0.3983 Validation Accuracy: 0.684200\n",
      "Epoch  7, CIFAR-10 Batch 4:  Epoch  7Loss:     0.5509 Validation Accuracy: 0.688800\n",
      "Epoch  7, CIFAR-10 Batch 5:  Epoch  7Loss:     0.4888 Validation Accuracy: 0.673200\n",
      "Epoch  8, CIFAR-10 Batch 1:  Epoch  8Loss:     0.5225 Validation Accuracy: 0.697000\n",
      "Epoch  8, CIFAR-10 Batch 2:  Epoch  8Loss:     0.4890 Validation Accuracy: 0.700200\n",
      "Epoch  8, CIFAR-10 Batch 3:  Epoch  8Loss:     0.3788 Validation Accuracy: 0.692200\n",
      "Epoch  8, CIFAR-10 Batch 4:  Epoch  8Loss:     0.4888 Validation Accuracy: 0.702000\n",
      "Epoch  8, CIFAR-10 Batch 5:  Epoch  8Loss:     0.4376 Validation Accuracy: 0.694600\n",
      "Epoch  9, CIFAR-10 Batch 1:  Epoch  9Loss:     0.4620 Validation Accuracy: 0.709400\n",
      "Epoch  9, CIFAR-10 Batch 2:  Epoch  9Loss:     0.4432 Validation Accuracy: 0.692200\n",
      "Epoch  9, CIFAR-10 Batch 3:  Epoch  9Loss:     0.3594 Validation Accuracy: 0.690800\n",
      "Epoch  9, CIFAR-10 Batch 4:  Epoch  9Loss:     0.5004 Validation Accuracy: 0.694600\n",
      "Epoch  9, CIFAR-10 Batch 5:  Epoch  9Loss:     0.3677 Validation Accuracy: 0.709600\n",
      "Epoch 10, CIFAR-10 Batch 1:  Epoch 10Loss:     0.5163 Validation Accuracy: 0.701200\n",
      "Epoch 10, CIFAR-10 Batch 2:  Epoch 10Loss:     0.3578 Validation Accuracy: 0.710000\n",
      "Epoch 10, CIFAR-10 Batch 3:  Epoch 10Loss:     0.3104 Validation Accuracy: 0.702200\n",
      "Epoch 10, CIFAR-10 Batch 4:  Epoch 10Loss:     0.4820 Validation Accuracy: 0.695800\n",
      "Epoch 10, CIFAR-10 Batch 5:  Epoch 10Loss:     0.3110 Validation Accuracy: 0.711400\n",
      "Epoch 11, CIFAR-10 Batch 1:  Epoch 11Loss:     0.3664 Validation Accuracy: 0.708400\n",
      "Epoch 11, CIFAR-10 Batch 2:  Epoch 11Loss:     0.3462 Validation Accuracy: 0.704400\n",
      "Epoch 11, CIFAR-10 Batch 3:  Epoch 11Loss:     0.2589 Validation Accuracy: 0.696000\n",
      "Epoch 11, CIFAR-10 Batch 4:  Epoch 11Loss:     0.3656 Validation Accuracy: 0.709400\n",
      "Epoch 11, CIFAR-10 Batch 5:  Epoch 11Loss:     0.2844 Validation Accuracy: 0.714800\n",
      "Epoch 12, CIFAR-10 Batch 1:  Epoch 12Loss:     0.3259 Validation Accuracy: 0.709200\n",
      "Epoch 12, CIFAR-10 Batch 2:  Epoch 12Loss:     0.2870 Validation Accuracy: 0.720000\n",
      "Epoch 12, CIFAR-10 Batch 3:  Epoch 12Loss:     0.2202 Validation Accuracy: 0.707200\n",
      "Epoch 12, CIFAR-10 Batch 4:  Epoch 12Loss:     0.3643 Validation Accuracy: 0.706600\n",
      "Epoch 12, CIFAR-10 Batch 5:  Epoch 12Loss:     0.3048 Validation Accuracy: 0.695200\n",
      "Epoch 13, CIFAR-10 Batch 1:  Epoch 13Loss:     0.2890 Validation Accuracy: 0.714000\n",
      "Epoch 13, CIFAR-10 Batch 2:  Epoch 13Loss:     0.2300 Validation Accuracy: 0.710400\n",
      "Epoch 13, CIFAR-10 Batch 3:  Epoch 13Loss:     0.2028 Validation Accuracy: 0.710000\n",
      "Epoch 13, CIFAR-10 Batch 4:  Epoch 13Loss:     0.2923 Validation Accuracy: 0.721800\n",
      "Epoch 13, CIFAR-10 Batch 5:  Epoch 13Loss:     0.2661 Validation Accuracy: 0.693400\n",
      "Epoch 14, CIFAR-10 Batch 1:  Epoch 14Loss:     0.2494 Validation Accuracy: 0.721600\n",
      "Epoch 14, CIFAR-10 Batch 2:  Epoch 14Loss:     0.2060 Validation Accuracy: 0.716800\n",
      "Epoch 14, CIFAR-10 Batch 3:  Epoch 14Loss:     0.2048 Validation Accuracy: 0.705000\n",
      "Epoch 14, CIFAR-10 Batch 4:  Epoch 14Loss:     0.2450 Validation Accuracy: 0.713800\n",
      "Epoch 14, CIFAR-10 Batch 5:  Epoch 14Loss:     0.2395 Validation Accuracy: 0.714000\n",
      "Epoch 15, CIFAR-10 Batch 1:  Epoch 15Loss:     0.2196 Validation Accuracy: 0.732800\n",
      "Epoch 15, CIFAR-10 Batch 2:  Epoch 15Loss:     0.1727 Validation Accuracy: 0.725600\n",
      "Epoch 15, CIFAR-10 Batch 3:  Epoch 15Loss:     0.1996 Validation Accuracy: 0.713600\n",
      "Epoch 15, CIFAR-10 Batch 4:  Epoch 15Loss:     0.2022 Validation Accuracy: 0.720200\n",
      "Epoch 15, CIFAR-10 Batch 5:  Epoch 15Loss:     0.1775 Validation Accuracy: 0.724800\n",
      "Epoch 16, CIFAR-10 Batch 1:  Epoch 16Loss:     0.2032 Validation Accuracy: 0.727400\n",
      "Epoch 16, CIFAR-10 Batch 2:  Epoch 16Loss:     0.1571 Validation Accuracy: 0.726000\n",
      "Epoch 16, CIFAR-10 Batch 3:  Epoch 16Loss:     0.1710 Validation Accuracy: 0.725400\n",
      "Epoch 16, CIFAR-10 Batch 4:  Epoch 16Loss:     0.2247 Validation Accuracy: 0.702400\n",
      "Epoch 16, CIFAR-10 Batch 5:  Epoch 16Loss:     0.1768 Validation Accuracy: 0.718800\n",
      "Epoch 17, CIFAR-10 Batch 1:  Epoch 17Loss:     0.1757 Validation Accuracy: 0.724200\n",
      "Epoch 17, CIFAR-10 Batch 2:  Epoch 17Loss:     0.1328 Validation Accuracy: 0.727000\n",
      "Epoch 17, CIFAR-10 Batch 3:  Epoch 17Loss:     0.1552 Validation Accuracy: 0.720800\n",
      "Epoch 17, CIFAR-10 Batch 4:  Epoch 17Loss:     0.1856 Validation Accuracy: 0.712800\n",
      "Epoch 17, CIFAR-10 Batch 5:  Epoch 17Loss:     0.1598 Validation Accuracy: 0.702800\n",
      "Epoch 18, CIFAR-10 Batch 1:  Epoch 18Loss:     0.1402 Validation Accuracy: 0.728000\n",
      "Epoch 18, CIFAR-10 Batch 2:  Epoch 18Loss:     0.1277 Validation Accuracy: 0.717000\n",
      "Epoch 18, CIFAR-10 Batch 3:  Epoch 18Loss:     0.1426 Validation Accuracy: 0.720600\n",
      "Epoch 18, CIFAR-10 Batch 4:  Epoch 18Loss:     0.1564 Validation Accuracy: 0.717600\n",
      "Epoch 18, CIFAR-10 Batch 5:  Epoch 18Loss:     0.1287 Validation Accuracy: 0.709200\n",
      "Epoch 19, CIFAR-10 Batch 1:  Epoch 19Loss:     0.1218 Validation Accuracy: 0.730400\n",
      "Epoch 19, CIFAR-10 Batch 2:  Epoch 19Loss:     0.1079 Validation Accuracy: 0.713600\n",
      "Epoch 19, CIFAR-10 Batch 3:  Epoch 19Loss:     0.1060 Validation Accuracy: 0.718800\n",
      "Epoch 19, CIFAR-10 Batch 4:  Epoch 19Loss:     0.1381 Validation Accuracy: 0.722200\n",
      "Epoch 19, CIFAR-10 Batch 5:  Epoch 19Loss:     0.1292 Validation Accuracy: 0.715600\n",
      "Epoch 20, CIFAR-10 Batch 1:  Epoch 20Loss:     0.1356 Validation Accuracy: 0.721600\n",
      "Epoch 20, CIFAR-10 Batch 2:  Epoch 20Loss:     0.0987 Validation Accuracy: 0.720400\n",
      "Epoch 20, CIFAR-10 Batch 3:  Epoch 20Loss:     0.0760 Validation Accuracy: 0.715000\n",
      "Epoch 20, CIFAR-10 Batch 4:  Epoch 20Loss:     0.1445 Validation Accuracy: 0.713600\n",
      "Epoch 20, CIFAR-10 Batch 5:  Epoch 20Loss:     0.0860 Validation Accuracy: 0.715600\n",
      "Epoch 21, CIFAR-10 Batch 1:  Epoch 21Loss:     0.0980 Validation Accuracy: 0.720000\n",
      "Epoch 21, CIFAR-10 Batch 2:  Epoch 21Loss:     0.0670 Validation Accuracy: 0.725600\n",
      "Epoch 21, CIFAR-10 Batch 3:  Epoch 21Loss:     0.0795 Validation Accuracy: 0.717200\n",
      "Epoch 21, CIFAR-10 Batch 4:  Epoch 21Loss:     0.1004 Validation Accuracy: 0.710600\n",
      "Epoch 21, CIFAR-10 Batch 5:  Epoch 21Loss:     0.0769 Validation Accuracy: 0.722600\n",
      "Epoch 22, CIFAR-10 Batch 1:  Epoch 22Loss:     0.0977 Validation Accuracy: 0.723400\n",
      "Epoch 22, CIFAR-10 Batch 2:  Epoch 22Loss:     0.0969 Validation Accuracy: 0.722800\n",
      "Epoch 22, CIFAR-10 Batch 3:  Epoch 22Loss:     0.0836 Validation Accuracy: 0.706000\n",
      "Epoch 22, CIFAR-10 Batch 4:  Epoch 22Loss:     0.0921 Validation Accuracy: 0.713000\n",
      "Epoch 22, CIFAR-10 Batch 5:  Epoch 22Loss:     0.0772 Validation Accuracy: 0.716200\n",
      "Epoch 23, CIFAR-10 Batch 1:  Epoch 23Loss:     0.0948 Validation Accuracy: 0.716800\n",
      "Epoch 23, CIFAR-10 Batch 2:  Epoch 23Loss:     0.0799 Validation Accuracy: 0.717600\n",
      "Epoch 23, CIFAR-10 Batch 3:  Epoch 23Loss:     0.0628 Validation Accuracy: 0.710000\n",
      "Epoch 23, CIFAR-10 Batch 4:  Epoch 23Loss:     0.0807 Validation Accuracy: 0.713400\n",
      "Epoch 23, CIFAR-10 Batch 5:  Epoch 23Loss:     0.0545 Validation Accuracy: 0.714800\n",
      "Epoch 24, CIFAR-10 Batch 1:  Epoch 24Loss:     0.0718 Validation Accuracy: 0.715000\n",
      "Epoch 24, CIFAR-10 Batch 2:  Epoch 24Loss:     0.0479 Validation Accuracy: 0.724200\n",
      "Epoch 24, CIFAR-10 Batch 3:  Epoch 24Loss:     0.0457 Validation Accuracy: 0.708600\n",
      "Epoch 24, CIFAR-10 Batch 4:  Epoch 24Loss:     0.1091 Validation Accuracy: 0.701800\n",
      "Epoch 24, CIFAR-10 Batch 5:  Epoch 24Loss:     0.0647 Validation Accuracy: 0.719400\n",
      "Epoch 25, CIFAR-10 Batch 1:  Epoch 25Loss:     0.0710 Validation Accuracy: 0.713000\n",
      "Epoch 25, CIFAR-10 Batch 2:  Epoch 25Loss:     0.0537 Validation Accuracy: 0.720000\n",
      "Epoch 25, CIFAR-10 Batch 3:  Epoch 25Loss:     0.0478 Validation Accuracy: 0.704200\n",
      "Epoch 25, CIFAR-10 Batch 4:  Epoch 25Loss:     0.0738 Validation Accuracy: 0.693800\n",
      "Epoch 25, CIFAR-10 Batch 5:  Epoch 25Loss:     0.0457 Validation Accuracy: 0.717600\n",
      "Epoch 26, CIFAR-10 Batch 1:  Epoch 26Loss:     0.0813 Validation Accuracy: 0.714000\n",
      "Epoch 26, CIFAR-10 Batch 2:  Epoch 26Loss:     0.0446 Validation Accuracy: 0.720600\n",
      "Epoch 26, CIFAR-10 Batch 3:  Epoch 26Loss:     0.0412 Validation Accuracy: 0.702800\n",
      "Epoch 26, CIFAR-10 Batch 4:  Epoch 26Loss:     0.0674 Validation Accuracy: 0.699400\n",
      "Epoch 26, CIFAR-10 Batch 5:  Epoch 26Loss:     0.0516 Validation Accuracy: 0.717800\n",
      "Epoch 27, CIFAR-10 Batch 1:  Epoch 27Loss:     0.0656 Validation Accuracy: 0.714400\n",
      "Epoch 27, CIFAR-10 Batch 2:  Epoch 27Loss:     0.0457 Validation Accuracy: 0.715400\n",
      "Epoch 27, CIFAR-10 Batch 3:  Epoch 27Loss:     0.0392 Validation Accuracy: 0.707200\n",
      "Epoch 27, CIFAR-10 Batch 4:  Epoch 27Loss:     0.0578 Validation Accuracy: 0.709400\n",
      "Epoch 27, CIFAR-10 Batch 5:  Epoch 27Loss:     0.0347 Validation Accuracy: 0.721600\n",
      "Epoch 28, CIFAR-10 Batch 1:  Epoch 28Loss:     0.0560 Validation Accuracy: 0.717000\n",
      "Epoch 28, CIFAR-10 Batch 2:  Epoch 28Loss:     0.0422 Validation Accuracy: 0.720000\n",
      "Epoch 28, CIFAR-10 Batch 3:  Epoch 28Loss:     0.0325 Validation Accuracy: 0.704400\n",
      "Epoch 28, CIFAR-10 Batch 4:  Epoch 28Loss:     0.0427 Validation Accuracy: 0.713000\n",
      "Epoch 28, CIFAR-10 Batch 5:  Epoch 28Loss:     0.0303 Validation Accuracy: 0.724600\n",
      "Epoch 29, CIFAR-10 Batch 1:  Epoch 29Loss:     0.0379 Validation Accuracy: 0.707200\n",
      "Epoch 29, CIFAR-10 Batch 2:  Epoch 29Loss:     0.0309 Validation Accuracy: 0.703000\n",
      "Epoch 29, CIFAR-10 Batch 3:  Epoch 29Loss:     0.0233 Validation Accuracy: 0.705800\n",
      "Epoch 29, CIFAR-10 Batch 4:  Epoch 29Loss:     0.0573 Validation Accuracy: 0.711000\n",
      "Epoch 29, CIFAR-10 Batch 5:  Epoch 29Loss:     0.0340 Validation Accuracy: 0.718200\n",
      "Epoch 30, CIFAR-10 Batch 1:  Epoch 30Loss:     0.0552 Validation Accuracy: 0.713600\n",
      "Epoch 30, CIFAR-10 Batch 2:  Epoch 30Loss:     0.0410 Validation Accuracy: 0.712000\n",
      "Epoch 30, CIFAR-10 Batch 3:  Epoch 30Loss:     0.0282 Validation Accuracy: 0.713600\n",
      "Epoch 30, CIFAR-10 Batch 4:  Epoch 30Loss:     0.0381 Validation Accuracy: 0.711000\n",
      "Epoch 30, CIFAR-10 Batch 5:  Epoch 30Loss:     0.0262 Validation Accuracy: 0.723600\n",
      "Epoch 31, CIFAR-10 Batch 1:  Epoch 31Loss:     0.0368 Validation Accuracy: 0.709800\n",
      "Epoch 31, CIFAR-10 Batch 2:  Epoch 31Loss:     0.0327 Validation Accuracy: 0.711000\n",
      "Epoch 31, CIFAR-10 Batch 3:  Epoch 31Loss:     0.0139 Validation Accuracy: 0.703800\n",
      "Epoch 31, CIFAR-10 Batch 4:  Epoch 31Loss:     0.0301 Validation Accuracy: 0.711200\n",
      "Epoch 31, CIFAR-10 Batch 5:  Epoch 31Loss:     0.0200 Validation Accuracy: 0.714400\n",
      "Epoch 32, CIFAR-10 Batch 1:  Epoch 32Loss:     0.0327 Validation Accuracy: 0.705000\n",
      "Epoch 32, CIFAR-10 Batch 2:  Epoch 32Loss:     0.0334 Validation Accuracy: 0.714000\n",
      "Epoch 32, CIFAR-10 Batch 3:  Epoch 32Loss:     0.0165 Validation Accuracy: 0.712200\n",
      "Epoch 32, CIFAR-10 Batch 4:  Epoch 32Loss:     0.0238 Validation Accuracy: 0.707000\n",
      "Epoch 32, CIFAR-10 Batch 5:  Epoch 32Loss:     0.0240 Validation Accuracy: 0.716600\n",
      "Epoch 33, CIFAR-10 Batch 1:  Epoch 33Loss:     0.0273 Validation Accuracy: 0.706400\n",
      "Epoch 33, CIFAR-10 Batch 2:  Epoch 33Loss:     0.0210 Validation Accuracy: 0.718400\n",
      "Epoch 33, CIFAR-10 Batch 3:  Epoch 33Loss:     0.0257 Validation Accuracy: 0.706800\n",
      "Epoch 33, CIFAR-10 Batch 4:  Epoch 33Loss:     0.0260 Validation Accuracy: 0.716400\n",
      "Epoch 33, CIFAR-10 Batch 5:  Epoch 33Loss:     0.0164 Validation Accuracy: 0.707000\n",
      "Epoch 34, CIFAR-10 Batch 1:  Epoch 34Loss:     0.0152 Validation Accuracy: 0.718400\n",
      "Epoch 34, CIFAR-10 Batch 2:  Epoch 34Loss:     0.0389 Validation Accuracy: 0.723000\n",
      "Epoch 34, CIFAR-10 Batch 3:  Epoch 34Loss:     0.0202 Validation Accuracy: 0.703000\n",
      "Epoch 34, CIFAR-10 Batch 4:  Epoch 34Loss:     0.0224 Validation Accuracy: 0.703600\n",
      "Epoch 34, CIFAR-10 Batch 5:  Epoch 34Loss:     0.0299 Validation Accuracy: 0.714200\n",
      "Epoch 35, CIFAR-10 Batch 1:  Epoch 35Loss:     0.0186 Validation Accuracy: 0.716800\n",
      "Epoch 35, CIFAR-10 Batch 2:  Epoch 35Loss:     0.0217 Validation Accuracy: 0.720200\n",
      "Epoch 35, CIFAR-10 Batch 3:  Epoch 35Loss:     0.0152 Validation Accuracy: 0.714800\n",
      "Epoch 35, CIFAR-10 Batch 4:  Epoch 35Loss:     0.0370 Validation Accuracy: 0.703800\n",
      "Epoch 35, CIFAR-10 Batch 5:  Epoch 35Loss:     0.0179 Validation Accuracy: 0.700400\n",
      "Epoch 36, CIFAR-10 Batch 1:  Epoch 36Loss:     0.0116 Validation Accuracy: 0.711800\n",
      "Epoch 36, CIFAR-10 Batch 2:  Epoch 36Loss:     0.0266 Validation Accuracy: 0.709600\n",
      "Epoch 36, CIFAR-10 Batch 3:  Epoch 36Loss:     0.0132 Validation Accuracy: 0.703000\n",
      "Epoch 36, CIFAR-10 Batch 4:  Epoch 36Loss:     0.0174 Validation Accuracy: 0.708600\n",
      "Epoch 36, CIFAR-10 Batch 5:  Epoch 36Loss:     0.0119 Validation Accuracy: 0.707200\n",
      "Epoch 37, CIFAR-10 Batch 1:  Epoch 37Loss:     0.0153 Validation Accuracy: 0.717000\n",
      "Epoch 37, CIFAR-10 Batch 2:  Epoch 37Loss:     0.0130 Validation Accuracy: 0.716000\n",
      "Epoch 37, CIFAR-10 Batch 3:  Epoch 37Loss:     0.0220 Validation Accuracy: 0.712000\n",
      "Epoch 37, CIFAR-10 Batch 4:  Epoch 37Loss:     0.0228 Validation Accuracy: 0.706800\n",
      "Epoch 37, CIFAR-10 Batch 5:  Epoch 37Loss:     0.0180 Validation Accuracy: 0.710800\n",
      "Epoch 38, CIFAR-10 Batch 1:  Epoch 38Loss:     0.0243 Validation Accuracy: 0.709600\n",
      "Epoch 38, CIFAR-10 Batch 2:  Epoch 38Loss:     0.0144 Validation Accuracy: 0.715600\n",
      "Epoch 38, CIFAR-10 Batch 3:  Epoch 38Loss:     0.0128 Validation Accuracy: 0.707000\n",
      "Epoch 38, CIFAR-10 Batch 4:  Epoch 38Loss:     0.0104 Validation Accuracy: 0.711400\n",
      "Epoch 38, CIFAR-10 Batch 5:  Epoch 38Loss:     0.0129 Validation Accuracy: 0.708400\n",
      "Epoch 39, CIFAR-10 Batch 1:  Epoch 39Loss:     0.0268 Validation Accuracy: 0.709800\n",
      "Epoch 39, CIFAR-10 Batch 2:  Epoch 39Loss:     0.0127 Validation Accuracy: 0.708400\n",
      "Epoch 39, CIFAR-10 Batch 3:  Epoch 39Loss:     0.0109 Validation Accuracy: 0.717200\n",
      "Epoch 39, CIFAR-10 Batch 4:  Epoch 39Loss:     0.0125 Validation Accuracy: 0.715000\n",
      "Epoch 39, CIFAR-10 Batch 5:  Epoch 39Loss:     0.0058 Validation Accuracy: 0.714400\n",
      "Epoch 40, CIFAR-10 Batch 1:  Epoch 40Loss:     0.0116 Validation Accuracy: 0.717400\n",
      "Epoch 40, CIFAR-10 Batch 2:  Epoch 40Loss:     0.0198 Validation Accuracy: 0.707800\n",
      "Epoch 40, CIFAR-10 Batch 3:  Epoch 40Loss:     0.0045 Validation Accuracy: 0.711200\n",
      "Epoch 40, CIFAR-10 Batch 4:  Epoch 40Loss:     0.0131 Validation Accuracy: 0.699800\n",
      "Epoch 40, CIFAR-10 Batch 5:  Epoch 40Loss:     0.0103 Validation Accuracy: 0.714600\n",
      "Epoch 41, CIFAR-10 Batch 1:  Epoch 41Loss:     0.0109 Validation Accuracy: 0.717600\n",
      "Epoch 41, CIFAR-10 Batch 2:  Epoch 41Loss:     0.0063 Validation Accuracy: 0.711400\n",
      "Epoch 41, CIFAR-10 Batch 3:  Epoch 41Loss:     0.0086 Validation Accuracy: 0.699800\n",
      "Epoch 41, CIFAR-10 Batch 4:  Epoch 41Loss:     0.0119 Validation Accuracy: 0.711200\n",
      "Epoch 41, CIFAR-10 Batch 5:  Epoch 41Loss:     0.0073 Validation Accuracy: 0.719600\n",
      "Epoch 42, CIFAR-10 Batch 1:  Epoch 42Loss:     0.0109 Validation Accuracy: 0.711800\n",
      "Epoch 42, CIFAR-10 Batch 2:  Epoch 42Loss:     0.0087 Validation Accuracy: 0.710200\n",
      "Epoch 42, CIFAR-10 Batch 3:  Epoch 42Loss:     0.0068 Validation Accuracy: 0.703400\n",
      "Epoch 42, CIFAR-10 Batch 4:  Epoch 42Loss:     0.0160 Validation Accuracy: 0.710400\n",
      "Epoch 42, CIFAR-10 Batch 5:  Epoch 42Loss:     0.0089 Validation Accuracy: 0.712600\n",
      "Epoch 43, CIFAR-10 Batch 1:  Epoch 43Loss:     0.0107 Validation Accuracy: 0.711800\n",
      "Epoch 43, CIFAR-10 Batch 2:  Epoch 43Loss:     0.0099 Validation Accuracy: 0.716000\n",
      "Epoch 43, CIFAR-10 Batch 3:  Epoch 43Loss:     0.0080 Validation Accuracy: 0.699600\n",
      "Epoch 43, CIFAR-10 Batch 4:  Epoch 43Loss:     0.0238 Validation Accuracy: 0.707000\n",
      "Epoch 43, CIFAR-10 Batch 5:  Epoch 43Loss:     0.0191 Validation Accuracy: 0.709600\n",
      "Epoch 44, CIFAR-10 Batch 1:  Epoch 44Loss:     0.0074 Validation Accuracy: 0.710400\n",
      "Epoch 44, CIFAR-10 Batch 2:  Epoch 44Loss:     0.0184 Validation Accuracy: 0.716800\n",
      "Epoch 44, CIFAR-10 Batch 3:  Epoch 44Loss:     0.0058 Validation Accuracy: 0.699200\n",
      "Epoch 44, CIFAR-10 Batch 4:  Epoch 44Loss:     0.0107 Validation Accuracy: 0.706800\n",
      "Epoch 44, CIFAR-10 Batch 5:  Epoch 44Loss:     0.0062 Validation Accuracy: 0.711600\n",
      "Epoch 45, CIFAR-10 Batch 1:  Epoch 45Loss:     0.0098 Validation Accuracy: 0.707400\n",
      "Epoch 45, CIFAR-10 Batch 2:  Epoch 45Loss:     0.0133 Validation Accuracy: 0.714000\n",
      "Epoch 45, CIFAR-10 Batch 3:  Epoch 45Loss:     0.0080 Validation Accuracy: 0.689400\n",
      "Epoch 45, CIFAR-10 Batch 4:  Epoch 45Loss:     0.0061 Validation Accuracy: 0.709000\n",
      "Epoch 45, CIFAR-10 Batch 5:  Epoch 45Loss:     0.0034 Validation Accuracy: 0.711600\n",
      "Epoch 46, CIFAR-10 Batch 1:  Epoch 46Loss:     0.0125 Validation Accuracy: 0.711000\n",
      "Epoch 46, CIFAR-10 Batch 2:  Epoch 46Loss:     0.0117 Validation Accuracy: 0.714600\n",
      "Epoch 46, CIFAR-10 Batch 3:  Epoch 46Loss:     0.0151 Validation Accuracy: 0.701400\n",
      "Epoch 46, CIFAR-10 Batch 4:  Epoch 46Loss:     0.0138 Validation Accuracy: 0.702800\n",
      "Epoch 46, CIFAR-10 Batch 5:  Epoch 46Loss:     0.0065 Validation Accuracy: 0.715200\n",
      "Epoch 47, CIFAR-10 Batch 1:  Epoch 47Loss:     0.0092 Validation Accuracy: 0.710800\n",
      "Epoch 47, CIFAR-10 Batch 2:  Epoch 47Loss:     0.0183 Validation Accuracy: 0.716800\n",
      "Epoch 47, CIFAR-10 Batch 3:  Epoch 47Loss:     0.0048 Validation Accuracy: 0.699600\n",
      "Epoch 47, CIFAR-10 Batch 4:  Epoch 47Loss:     0.0085 Validation Accuracy: 0.712000\n",
      "Epoch 47, CIFAR-10 Batch 5:  Epoch 47Loss:     0.0025 Validation Accuracy: 0.711800\n",
      "Epoch 48, CIFAR-10 Batch 1:  Epoch 48Loss:     0.0101 Validation Accuracy: 0.704000\n",
      "Epoch 48, CIFAR-10 Batch 2:  Epoch 48Loss:     0.0070 Validation Accuracy: 0.705600\n",
      "Epoch 48, CIFAR-10 Batch 3:  Epoch 48Loss:     0.0052 Validation Accuracy: 0.705400\n",
      "Epoch 48, CIFAR-10 Batch 4:  Epoch 48Loss:     0.0153 Validation Accuracy: 0.703800\n",
      "Epoch 48, CIFAR-10 Batch 5:  Epoch 48Loss:     0.0040 Validation Accuracy: 0.705000\n",
      "Epoch 49, CIFAR-10 Batch 1:  Epoch 49Loss:     0.0147 Validation Accuracy: 0.707400\n",
      "Epoch 49, CIFAR-10 Batch 2:  Epoch 49Loss:     0.0101 Validation Accuracy: 0.708800\n",
      "Epoch 49, CIFAR-10 Batch 3:  Epoch 49Loss:     0.0150 Validation Accuracy: 0.694600\n",
      "Epoch 49, CIFAR-10 Batch 4:  Epoch 49Loss:     0.0104 Validation Accuracy: 0.700200\n",
      "Epoch 49, CIFAR-10 Batch 5:  Epoch 49Loss:     0.0029 Validation Accuracy: 0.714200\n",
      "Epoch 50, CIFAR-10 Batch 1:  Epoch 50Loss:     0.0071 Validation Accuracy: 0.702000\n",
      "Epoch 50, CIFAR-10 Batch 2:  Epoch 50Loss:     0.0067 Validation Accuracy: 0.710400\n",
      "Epoch 50, CIFAR-10 Batch 3:  Epoch 50Loss:     0.0032 Validation Accuracy: 0.702600\n",
      "Epoch 50, CIFAR-10 Batch 4:  Epoch 50Loss:     0.0110 Validation Accuracy: 0.702000\n",
      "Epoch 50, CIFAR-10 Batch 5:  Epoch 50Loss:     0.0048 Validation Accuracy: 0.706600\n"
     ]
    }
   ],
   "source": [
    "\"\"\"\n",
    "DON'T MODIFY ANYTHING IN THIS CELL\n",
    "\"\"\"\n",
    "save_model_path = './image_classification'\n",
    "\n",
    "print('Training...')\n",
    "with tf.Session() as sess:\n",
    "    # Initializing the variables\n",
    "    sess.run(tf.global_variables_initializer())\n",
    "    \n",
    "    # Training cycle\n",
    "    for epoch in range(epochs):\n",
    "        # Loop over all batches\n",
    "        n_batches = 5\n",
    "        for batch_i in range(1, n_batches + 1):\n",
    "            for batch_features, batch_labels in helper.load_preprocess_training_batch(batch_i, batch_size):\n",
    "                train_neural_network(sess, optimizer, keep_probability, batch_features, batch_labels)\n",
    "            print('Epoch {:>2}, CIFAR-10 Batch {}:  '.format(epoch + 1, batch_i), end='')\n",
    "            print_stats(sess, batch_features, batch_labels, cost, accuracy)\n",
    "            \n",
    "    # Save Model\n",
    "    saver = tf.train.Saver()\n",
    "    save_path = saver.save(sess, save_model_path)"
   ]
  },
  {
   "cell_type": "markdown",
   "metadata": {},
   "source": [
    "# Checkpoint\n",
    "The model has been saved to disk.\n",
    "## Test Model\n",
    "Test your model against the test dataset.  This will be your final accuracy. You should have an accuracy greater than 50%. If you don't, keep tweaking the model architecture and parameters."
   ]
  },
  {
   "cell_type": "code",
   "execution_count": 19,
   "metadata": {},
   "outputs": [
    {
     "name": "stdout",
     "output_type": "stream",
     "text": [
      "INFO:tensorflow:Restoring parameters from ./image_classification\n",
      "Testing Accuracy: 0.7030261075949367\n",
      "\n"
     ]
    },
    {
     "data": {
      "image/png": "[encoded data removed]",
      "text/plain": [
       "<matplotlib.figure.Figure at 0x7f49e242d198>"
      ]
     },
     "metadata": {
      "image/png": {
       "height": 319,
       "width": 355
      }
     },
     "output_type": "display_data"
    }
   ],
   "source": [
    "\"\"\"\n",
    "DON'T MODIFY ANYTHING IN THIS CELL\n",
    "\"\"\"\n",
    "%matplotlib inline\n",
    "%config InlineBackend.figure_format = 'retina'\n",
    "\n",
    "import tensorflow as tf\n",
    "import pickle\n",
    "import helper\n",
    "import random\n",
    "\n",
    "# Set batch size if not already set\n",
    "try:\n",
    "    if batch_size:\n",
    "        pass\n",
    "except NameError:\n",
    "    batch_size = 64\n",
    "\n",
    "save_model_path = './image_classification'\n",
    "n_samples = 4\n",
    "top_n_predictions = 3\n",
    "\n",
    "def test_model():\n",
    "    \"\"\"\n",
    "    Test the saved model against the test dataset\n",
    "    \"\"\"\n",
    "\n",
    "    test_features, test_labels = pickle.load(open('preprocess_test.p', mode='rb'))\n",
    "    loaded_graph = tf.Graph()\n",
    "\n",
    "    with tf.Session(graph=loaded_graph) as sess:\n",
    "        # Load model\n",
    "        loader = tf.train.import_meta_graph(save_model_path + '.meta')\n",
    "        loader.restore(sess, save_model_path)\n",
    "\n",
    "        # Get Tensors from loaded model\n",
    "        loaded_x = loaded_graph.get_tensor_by_name('x:0')\n",
    "        loaded_y = loaded_graph.get_tensor_by_name('y:0')\n",
    "        loaded_keep_prob = loaded_graph.get_tensor_by_name('keep_prob:0')\n",
    "        loaded_logits = loaded_graph.get_tensor_by_name('logits:0')\n",
    "        loaded_acc = loaded_graph.get_tensor_by_name('accuracy:0')\n",
    "        \n",
    "        # Get accuracy in batches for memory limitations\n",
    "        test_batch_acc_total = 0\n",
    "        test_batch_count = 0\n",
    "        \n",
    "        for train_feature_batch, train_label_batch in helper.batch_features_labels(test_features, test_labels, batch_size):\n",
    "            test_batch_acc_total += sess.run(\n",
    "                loaded_acc,\n",
    "                feed_dict={loaded_x: train_feature_batch, loaded_y: train_label_batch, loaded_keep_prob: 1.0})\n",
    "            test_batch_count += 1\n",
    "\n",
    "        print('Testing Accuracy: {}\\n'.format(test_batch_acc_total/test_batch_count))\n",
    "\n",
    "        # Print Random Samples\n",
    "        random_test_features, random_test_labels = tuple(zip(*random.sample(list(zip(test_features, test_labels)), n_samples)))\n",
    "        random_test_predictions = sess.run(\n",
    "            tf.nn.top_k(tf.nn.softmax(loaded_logits), top_n_predictions),\n",
    "            feed_dict={loaded_x: random_test_features, loaded_y: random_test_labels, loaded_keep_prob: 1.0})\n",
    "        helper.display_image_predictions(random_test_features, random_test_labels, random_test_predictions)\n",
    "\n",
    "\n",
    "test_model()"
   ]
  },
  {
   "cell_type": "markdown",
   "metadata": {},
   "source": [
    "## Why 50-80% Accuracy?\n",
    "You might be wondering why you can't get an accuracy any higher. First things first, 50% isn't bad for a simple CNN.  Pure guessing would get you 10% accuracy. However, you might follow the CNN stucture where people are getting scores [well above 80%](http://rodrigob.github.io/are_we_there_yet/build/classification_datasets_results.html#43494641522d3130)."
   ]
  },
  {
   "cell_type": "markdown",
   "metadata": {},
   "source": [
    "## 做完練習後，請執行以下 cell 來刪除圖片檔案，避免各位的硬碟空間不足 !! (可能會開不了 hub)"
   ]
  },
  {
   "cell_type": "code",
   "execution_count": 20,
   "metadata": {},
   "outputs": [],
   "source": [
    "!rm cifar-10-python.tar.gz\n",
    "!rm preprocess_batch_1.p\n",
    "!rm preprocess_batch_2.p\n",
    "!rm preprocess_batch_3.p\n",
    "!rm preprocess_batch_4.p\n",
    "!rm preprocess_batch_5.p\n",
    "!rm preprocess_validation.p\n",
    "!rm preprocess_test.p"
   ]
  },
  {
   "cell_type": "code",
   "execution_count": null,
   "metadata": {},
   "outputs": [],
   "source": []
  }
 ],
 "metadata": {
  "anaconda-cloud": {},
  "kernelspec": {
   "display_name": "Python 3",
   "language": "python",
   "name": "python3"
  },
  "language_info": {
   "codemirror_mode": {
    "name": "ipython",
    "version": 3
   },
   "file_extension": ".py",
   "mimetype": "text/x-python",
   "name": "python",
   "nbconvert_exporter": "python",
   "pygments_lexer": "ipython3",
   "version": "3.6.3"
  }
 },
 "nbformat": 4,
 "nbformat_minor": 2
}
